{
  "nbformat": 4,
  "nbformat_minor": 0,
  "metadata": {
    "colab": {
      "provenance": []
    },
    "kernelspec": {
      "name": "python3",
      "display_name": "Python 3"
    },
    "language_info": {
      "name": "python"
    }
  },
  "cells": [
    {
      "cell_type": "markdown",
      "source": [
        "**Objective:**\n",
        "\n",
        "The objective of this movie recommendation system is to provide personalized movie recommendations to users based on their historical ratings and preferences. We'll build a collaborative filtering recommendation system using the Kaggle dataset in Google Colab.\n",
        "\n",
        "**Data Source:**\n",
        "\n",
        "We'll use one of the Kaggle dataset for movies, which is a popular dataset for building movie recommendation systems. The dataset contains movie ratings given by users. You can download the dataset from the MovieLens website or use the surprise library to directly load a subset of the dataset."
      ],
      "metadata": {
        "id": "VeiEVYcHxP4Q"
      }
    },
    {
      "cell_type": "code",
      "source": [
        "import pandas as pd\n",
        "import numpy as np\n"
      ],
      "metadata": {
        "id": "71CMz7vNyCO-"
      },
      "execution_count": 47,
      "outputs": []
    },
    {
      "cell_type": "code",
      "source": [
        "path = (\"/Top_10000_Movies.csv\")"
      ],
      "metadata": {
        "id": "zcpMvhKQz27Z"
      },
      "execution_count": 48,
      "outputs": []
    },
    {
      "cell_type": "code",
      "source": [
        "df = pd.read_csv(path,lineterminator='\\n')"
      ],
      "metadata": {
        "id": "iLSaqsYv1xvo"
      },
      "execution_count": 49,
      "outputs": []
    },
    {
      "cell_type": "markdown",
      "source": [],
      "metadata": {
        "id": "UOkXZls1wo2H"
      }
    },
    {
      "cell_type": "code",
      "source": [
        "df.head()"
      ],
      "metadata": {
        "colab": {
          "base_uri": "https://localhost:8080/",
          "height": 625
        },
        "id": "UQmJIvbk2Q7M",
        "outputId": "b7c4984c-ff9c-481a-ca23-a17b730e94dc"
      },
      "execution_count": null,
      "outputs": [
        {
          "output_type": "execute_result",
          "data": {
            "text/plain": [
              "   Unnamed: 0      id original_language               original_title  \\\n",
              "0           0  580489                en  Venom: Let There Be Carnage   \n",
              "1           1  524434                en                     Eternals   \n",
              "2           2  438631                en                         Dune   \n",
              "3           3  796499                en              Army of Thieves   \n",
              "4           4  550988                en                     Free Guy   \n",
              "\n",
              "   popularity release_date  vote_average  vote_count  \\\n",
              "0    5401.308   2021-09-30           6.8        1736   \n",
              "1    3365.535   2021-11-03           7.1         622   \n",
              "2    2911.423   2021-09-15           8.0        3632   \n",
              "3    2552.437   2021-10-27           6.9         555   \n",
              "4    1850.470   2021-08-11           7.8        3493   \n",
              "\n",
              "                                               genre  \\\n",
              "0         ['Science Fiction', 'Action', 'Adventure']   \n",
              "1  ['Action', 'Adventure', 'Science Fiction', 'Fa...   \n",
              "2         ['Action', 'Adventure', 'Science Fiction']   \n",
              "3                    ['Action', 'Crime', 'Thriller']   \n",
              "4  ['Comedy', 'Action', 'Adventure', 'Science Fic...   \n",
              "\n",
              "                                            overview    revenue  runtime  \\\n",
              "0  After finding a host body in investigative rep...  424000000     97.0   \n",
              "1  The Eternals are a team of ancient aliens who ...  165000000    157.0   \n",
              "2  Paul Atreides, a brilliant and gifted young ma...  331116356    155.0   \n",
              "3  A mysterious woman recruits bank teller Ludwig...          0    127.0   \n",
              "4  A bank teller called Guy realizes he is a back...  331096766    115.0   \n",
              "\n",
              "                                          tagline  \n",
              "0                                             NaN  \n",
              "1                             In the beginning...  \n",
              "2                    Beyond fear, destiny awaits.  \n",
              "3    Before Vegas, one locksmith became a legend.  \n",
              "4  Life's too short to be a background character.  "
            ],
            "text/html": [
              "\n",
              "  <div id=\"df-d228363a-a86f-4998-9387-098f316ea7d9\" class=\"colab-df-container\">\n",
              "    <div>\n",
              "<style scoped>\n",
              "    .dataframe tbody tr th:only-of-type {\n",
              "        vertical-align: middle;\n",
              "    }\n",
              "\n",
              "    .dataframe tbody tr th {\n",
              "        vertical-align: top;\n",
              "    }\n",
              "\n",
              "    .dataframe thead th {\n",
              "        text-align: right;\n",
              "    }\n",
              "</style>\n",
              "<table border=\"1\" class=\"dataframe\">\n",
              "  <thead>\n",
              "    <tr style=\"text-align: right;\">\n",
              "      <th></th>\n",
              "      <th>Unnamed: 0</th>\n",
              "      <th>id</th>\n",
              "      <th>original_language</th>\n",
              "      <th>original_title</th>\n",
              "      <th>popularity</th>\n",
              "      <th>release_date</th>\n",
              "      <th>vote_average</th>\n",
              "      <th>vote_count</th>\n",
              "      <th>genre</th>\n",
              "      <th>overview</th>\n",
              "      <th>revenue</th>\n",
              "      <th>runtime</th>\n",
              "      <th>tagline</th>\n",
              "    </tr>\n",
              "  </thead>\n",
              "  <tbody>\n",
              "    <tr>\n",
              "      <th>0</th>\n",
              "      <td>0</td>\n",
              "      <td>580489</td>\n",
              "      <td>en</td>\n",
              "      <td>Venom: Let There Be Carnage</td>\n",
              "      <td>5401.308</td>\n",
              "      <td>2021-09-30</td>\n",
              "      <td>6.8</td>\n",
              "      <td>1736</td>\n",
              "      <td>['Science Fiction', 'Action', 'Adventure']</td>\n",
              "      <td>After finding a host body in investigative rep...</td>\n",
              "      <td>424000000</td>\n",
              "      <td>97.0</td>\n",
              "      <td>NaN</td>\n",
              "    </tr>\n",
              "    <tr>\n",
              "      <th>1</th>\n",
              "      <td>1</td>\n",
              "      <td>524434</td>\n",
              "      <td>en</td>\n",
              "      <td>Eternals</td>\n",
              "      <td>3365.535</td>\n",
              "      <td>2021-11-03</td>\n",
              "      <td>7.1</td>\n",
              "      <td>622</td>\n",
              "      <td>['Action', 'Adventure', 'Science Fiction', 'Fa...</td>\n",
              "      <td>The Eternals are a team of ancient aliens who ...</td>\n",
              "      <td>165000000</td>\n",
              "      <td>157.0</td>\n",
              "      <td>In the beginning...</td>\n",
              "    </tr>\n",
              "    <tr>\n",
              "      <th>2</th>\n",
              "      <td>2</td>\n",
              "      <td>438631</td>\n",
              "      <td>en</td>\n",
              "      <td>Dune</td>\n",
              "      <td>2911.423</td>\n",
              "      <td>2021-09-15</td>\n",
              "      <td>8.0</td>\n",
              "      <td>3632</td>\n",
              "      <td>['Action', 'Adventure', 'Science Fiction']</td>\n",
              "      <td>Paul Atreides, a brilliant and gifted young ma...</td>\n",
              "      <td>331116356</td>\n",
              "      <td>155.0</td>\n",
              "      <td>Beyond fear, destiny awaits.</td>\n",
              "    </tr>\n",
              "    <tr>\n",
              "      <th>3</th>\n",
              "      <td>3</td>\n",
              "      <td>796499</td>\n",
              "      <td>en</td>\n",
              "      <td>Army of Thieves</td>\n",
              "      <td>2552.437</td>\n",
              "      <td>2021-10-27</td>\n",
              "      <td>6.9</td>\n",
              "      <td>555</td>\n",
              "      <td>['Action', 'Crime', 'Thriller']</td>\n",
              "      <td>A mysterious woman recruits bank teller Ludwig...</td>\n",
              "      <td>0</td>\n",
              "      <td>127.0</td>\n",
              "      <td>Before Vegas, one locksmith became a legend.</td>\n",
              "    </tr>\n",
              "    <tr>\n",
              "      <th>4</th>\n",
              "      <td>4</td>\n",
              "      <td>550988</td>\n",
              "      <td>en</td>\n",
              "      <td>Free Guy</td>\n",
              "      <td>1850.470</td>\n",
              "      <td>2021-08-11</td>\n",
              "      <td>7.8</td>\n",
              "      <td>3493</td>\n",
              "      <td>['Comedy', 'Action', 'Adventure', 'Science Fic...</td>\n",
              "      <td>A bank teller called Guy realizes he is a back...</td>\n",
              "      <td>331096766</td>\n",
              "      <td>115.0</td>\n",
              "      <td>Life's too short to be a background character.</td>\n",
              "    </tr>\n",
              "  </tbody>\n",
              "</table>\n",
              "</div>\n",
              "    <div class=\"colab-df-buttons\">\n",
              "\n",
              "  <div class=\"colab-df-container\">\n",
              "    <button class=\"colab-df-convert\" onclick=\"convertToInteractive('df-d228363a-a86f-4998-9387-098f316ea7d9')\"\n",
              "            title=\"Convert this dataframe to an interactive table.\"\n",
              "            style=\"display:none;\">\n",
              "\n",
              "  <svg xmlns=\"http://www.w3.org/2000/svg\" height=\"24px\" viewBox=\"0 -960 960 960\">\n",
              "    <path d=\"M120-120v-720h720v720H120Zm60-500h600v-160H180v160Zm220 220h160v-160H400v160Zm0 220h160v-160H400v160ZM180-400h160v-160H180v160Zm440 0h160v-160H620v160ZM180-180h160v-160H180v160Zm440 0h160v-160H620v160Z\"/>\n",
              "  </svg>\n",
              "    </button>\n",
              "\n",
              "  <style>\n",
              "    .colab-df-container {\n",
              "      display:flex;\n",
              "      gap: 12px;\n",
              "    }\n",
              "\n",
              "    .colab-df-convert {\n",
              "      background-color: #E8F0FE;\n",
              "      border: none;\n",
              "      border-radius: 50%;\n",
              "      cursor: pointer;\n",
              "      display: none;\n",
              "      fill: #1967D2;\n",
              "      height: 32px;\n",
              "      padding: 0 0 0 0;\n",
              "      width: 32px;\n",
              "    }\n",
              "\n",
              "    .colab-df-convert:hover {\n",
              "      background-color: #E2EBFA;\n",
              "      box-shadow: 0px 1px 2px rgba(60, 64, 67, 0.3), 0px 1px 3px 1px rgba(60, 64, 67, 0.15);\n",
              "      fill: #174EA6;\n",
              "    }\n",
              "\n",
              "    .colab-df-buttons div {\n",
              "      margin-bottom: 4px;\n",
              "    }\n",
              "\n",
              "    [theme=dark] .colab-df-convert {\n",
              "      background-color: #3B4455;\n",
              "      fill: #D2E3FC;\n",
              "    }\n",
              "\n",
              "    [theme=dark] .colab-df-convert:hover {\n",
              "      background-color: #434B5C;\n",
              "      box-shadow: 0px 1px 3px 1px rgba(0, 0, 0, 0.15);\n",
              "      filter: drop-shadow(0px 1px 2px rgba(0, 0, 0, 0.3));\n",
              "      fill: #FFFFFF;\n",
              "    }\n",
              "  </style>\n",
              "\n",
              "    <script>\n",
              "      const buttonEl =\n",
              "        document.querySelector('#df-d228363a-a86f-4998-9387-098f316ea7d9 button.colab-df-convert');\n",
              "      buttonEl.style.display =\n",
              "        google.colab.kernel.accessAllowed ? 'block' : 'none';\n",
              "\n",
              "      async function convertToInteractive(key) {\n",
              "        const element = document.querySelector('#df-d228363a-a86f-4998-9387-098f316ea7d9');\n",
              "        const dataTable =\n",
              "          await google.colab.kernel.invokeFunction('convertToInteractive',\n",
              "                                                    [key], {});\n",
              "        if (!dataTable) return;\n",
              "\n",
              "        const docLinkHtml = 'Like what you see? Visit the ' +\n",
              "          '<a target=\"_blank\" href=https://colab.research.google.com/notebooks/data_table.ipynb>data table notebook</a>'\n",
              "          + ' to learn more about interactive tables.';\n",
              "        element.innerHTML = '';\n",
              "        dataTable['output_type'] = 'display_data';\n",
              "        await google.colab.output.renderOutput(dataTable, element);\n",
              "        const docLink = document.createElement('div');\n",
              "        docLink.innerHTML = docLinkHtml;\n",
              "        element.appendChild(docLink);\n",
              "      }\n",
              "    </script>\n",
              "  </div>\n",
              "\n",
              "\n",
              "<div id=\"df-2264dd24-9df2-4be6-b8e0-1644d932543b\">\n",
              "  <button class=\"colab-df-quickchart\" onclick=\"quickchart('df-2264dd24-9df2-4be6-b8e0-1644d932543b')\"\n",
              "            title=\"Suggest charts.\"\n",
              "            style=\"display:none;\">\n",
              "\n",
              "<svg xmlns=\"http://www.w3.org/2000/svg\" height=\"24px\"viewBox=\"0 0 24 24\"\n",
              "     width=\"24px\">\n",
              "    <g>\n",
              "        <path d=\"M19 3H5c-1.1 0-2 .9-2 2v14c0 1.1.9 2 2 2h14c1.1 0 2-.9 2-2V5c0-1.1-.9-2-2-2zM9 17H7v-7h2v7zm4 0h-2V7h2v10zm4 0h-2v-4h2v4z\"/>\n",
              "    </g>\n",
              "</svg>\n",
              "  </button>\n",
              "\n",
              "<style>\n",
              "  .colab-df-quickchart {\n",
              "    background-color: #E8F0FE;\n",
              "    border: none;\n",
              "    border-radius: 50%;\n",
              "    cursor: pointer;\n",
              "    display: none;\n",
              "    fill: #1967D2;\n",
              "    height: 32px;\n",
              "    padding: 0 0 0 0;\n",
              "    width: 32px;\n",
              "  }\n",
              "\n",
              "  .colab-df-quickchart:hover {\n",
              "    background-color: #E2EBFA;\n",
              "    box-shadow: 0px 1px 2px rgba(60, 64, 67, 0.3), 0px 1px 3px 1px rgba(60, 64, 67, 0.15);\n",
              "    fill: #174EA6;\n",
              "  }\n",
              "\n",
              "  [theme=dark] .colab-df-quickchart {\n",
              "    background-color: #3B4455;\n",
              "    fill: #D2E3FC;\n",
              "  }\n",
              "\n",
              "  [theme=dark] .colab-df-quickchart:hover {\n",
              "    background-color: #434B5C;\n",
              "    box-shadow: 0px 1px 3px 1px rgba(0, 0, 0, 0.15);\n",
              "    filter: drop-shadow(0px 1px 2px rgba(0, 0, 0, 0.3));\n",
              "    fill: #FFFFFF;\n",
              "  }\n",
              "</style>\n",
              "\n",
              "  <script>\n",
              "    async function quickchart(key) {\n",
              "      const charts = await google.colab.kernel.invokeFunction(\n",
              "          'suggestCharts', [key], {});\n",
              "    }\n",
              "    (() => {\n",
              "      let quickchartButtonEl =\n",
              "        document.querySelector('#df-2264dd24-9df2-4be6-b8e0-1644d932543b button');\n",
              "      quickchartButtonEl.style.display =\n",
              "        google.colab.kernel.accessAllowed ? 'block' : 'none';\n",
              "    })();\n",
              "  </script>\n",
              "</div>\n",
              "    </div>\n",
              "  </div>\n"
            ]
          },
          "metadata": {},
          "execution_count": 14
        }
      ]
    },
    {
      "cell_type": "code",
      "source": [
        "df.info()"
      ],
      "metadata": {
        "colab": {
          "base_uri": "https://localhost:8080/"
        },
        "id": "Xclrsxj5dAFA",
        "outputId": "e10b8e7b-68c9-4ebd-bdb0-47b3526d2eb2"
      },
      "execution_count": null,
      "outputs": [
        {
          "output_type": "stream",
          "name": "stdout",
          "text": [
            "<class 'pandas.core.frame.DataFrame'>\n",
            "RangeIndex: 10000 entries, 0 to 9999\n",
            "Data columns (total 13 columns):\n",
            " #   Column             Non-Null Count  Dtype  \n",
            "---  ------             --------------  -----  \n",
            " 0   Unnamed: 0         10000 non-null  int64  \n",
            " 1   id                 10000 non-null  int64  \n",
            " 2   original_language  10000 non-null  object \n",
            " 3   original_title     10000 non-null  object \n",
            " 4   popularity         10000 non-null  float64\n",
            " 5   release_date       9962 non-null   object \n",
            " 6   vote_average       10000 non-null  float64\n",
            " 7   vote_count         10000 non-null  int64  \n",
            " 8   genre              10000 non-null  object \n",
            " 9   overview           9900 non-null   object \n",
            " 10  revenue            10000 non-null  int64  \n",
            " 11  runtime            9991 non-null   float64\n",
            " 12  tagline            7080 non-null   object \n",
            "dtypes: float64(3), int64(4), object(6)\n",
            "memory usage: 1015.8+ KB\n"
          ]
        }
      ]
    },
    {
      "cell_type": "code",
      "source": [
        "df.shape"
      ],
      "metadata": {
        "colab": {
          "base_uri": "https://localhost:8080/"
        },
        "id": "jcrlrg4UdUSJ",
        "outputId": "07cdc658-825a-404c-d667-27a95f9015ec"
      },
      "execution_count": 12,
      "outputs": [
        {
          "output_type": "execute_result",
          "data": {
            "text/plain": [
              "(10000, 13)"
            ]
          },
          "metadata": {},
          "execution_count": 12
        }
      ]
    },
    {
      "cell_type": "code",
      "source": [
        "df.columns"
      ],
      "metadata": {
        "colab": {
          "base_uri": "https://localhost:8080/"
        },
        "id": "xLaNG_Jbdcv_",
        "outputId": "3a01d518-9386-4e98-b1ed-fe18224fea78"
      },
      "execution_count": 232,
      "outputs": [
        {
          "output_type": "execute_result",
          "data": {
            "text/plain": [
              "Index(['Unnamed: 0', 'id', 'original_language', 'original_title', 'popularity',\n",
              "       'release_date', 'vote_average', 'vote_count', 'genre', 'overview',\n",
              "       'revenue', 'runtime', 'tagline'],\n",
              "      dtype='object')"
            ]
          },
          "metadata": {},
          "execution_count": 232
        }
      ]
    },
    {
      "cell_type": "markdown",
      "source": [
        "**GET FEATURE SELECTION**"
      ],
      "metadata": {
        "id": "3LK3pOzWdn77"
      }
    },
    {
      "cell_type": "code",
      "source": [
        "df_features = df[['original_title', 'popularity','release_date', 'vote_average', 'vote_count']].fillna('')"
      ],
      "metadata": {
        "id": "_pCKMYExdtYO"
      },
      "execution_count": 50,
      "outputs": []
    },
    {
      "cell_type": "markdown",
      "source": [
        "Selected five existing features to recommend movies"
      ],
      "metadata": {
        "id": "s4rycxlheWTF"
      }
    },
    {
      "cell_type": "code",
      "source": [
        "df_features.shape"
      ],
      "metadata": {
        "colab": {
          "base_uri": "https://localhost:8080/"
        },
        "id": "6FiLZeiDeeso",
        "outputId": "e4f5d93e-14ee-41da-ad27-8172cf417f16"
      },
      "execution_count": null,
      "outputs": [
        {
          "output_type": "execute_result",
          "data": {
            "text/plain": [
              "(10000, 5)"
            ]
          },
          "metadata": {},
          "execution_count": 21
        }
      ]
    },
    {
      "cell_type": "code",
      "source": [
        "df_features"
      ],
      "metadata": {
        "colab": {
          "base_uri": "https://localhost:8080/",
          "height": 424
        },
        "id": "t1O_HQ2teiqZ",
        "outputId": "591e9aba-9664-48cd-ac95-51d891d3b6df"
      },
      "execution_count": null,
      "outputs": [
        {
          "output_type": "execute_result",
          "data": {
            "text/plain": [
              "                   original_title  popularity release_date  vote_average  \\\n",
              "0     Venom: Let There Be Carnage    5401.308   2021-09-30           6.8   \n",
              "1                        Eternals    3365.535   2021-11-03           7.1   \n",
              "2                            Dune    2911.423   2021-09-15           8.0   \n",
              "3                 Army of Thieves    2552.437   2021-10-27           6.9   \n",
              "4                        Free Guy    1850.470   2021-08-11           7.8   \n",
              "...                           ...         ...          ...           ...   \n",
              "9995              A Grand Day Out       9.266   1990-05-18           7.5   \n",
              "9996                  El cantante      10.417   2006-09-12           7.0   \n",
              "9997               How I Live Now       9.520   2013-09-10           6.6   \n",
              "9998                         Once       9.267   2007-03-23           7.4   \n",
              "9999              Manhattan Night       9.273   2016-05-20           6.0   \n",
              "\n",
              "      vote_count  \n",
              "0           1736  \n",
              "1            622  \n",
              "2           3632  \n",
              "3            555  \n",
              "4           3493  \n",
              "...          ...  \n",
              "9995         594  \n",
              "9996          80  \n",
              "9997         705  \n",
              "9998         990  \n",
              "9999         304  \n",
              "\n",
              "[10000 rows x 5 columns]"
            ],
            "text/html": [
              "\n",
              "  <div id=\"df-73965c1f-3289-42af-8dec-1a9eebc80f1c\" class=\"colab-df-container\">\n",
              "    <div>\n",
              "<style scoped>\n",
              "    .dataframe tbody tr th:only-of-type {\n",
              "        vertical-align: middle;\n",
              "    }\n",
              "\n",
              "    .dataframe tbody tr th {\n",
              "        vertical-align: top;\n",
              "    }\n",
              "\n",
              "    .dataframe thead th {\n",
              "        text-align: right;\n",
              "    }\n",
              "</style>\n",
              "<table border=\"1\" class=\"dataframe\">\n",
              "  <thead>\n",
              "    <tr style=\"text-align: right;\">\n",
              "      <th></th>\n",
              "      <th>original_title</th>\n",
              "      <th>popularity</th>\n",
              "      <th>release_date</th>\n",
              "      <th>vote_average</th>\n",
              "      <th>vote_count</th>\n",
              "    </tr>\n",
              "  </thead>\n",
              "  <tbody>\n",
              "    <tr>\n",
              "      <th>0</th>\n",
              "      <td>Venom: Let There Be Carnage</td>\n",
              "      <td>5401.308</td>\n",
              "      <td>2021-09-30</td>\n",
              "      <td>6.8</td>\n",
              "      <td>1736</td>\n",
              "    </tr>\n",
              "    <tr>\n",
              "      <th>1</th>\n",
              "      <td>Eternals</td>\n",
              "      <td>3365.535</td>\n",
              "      <td>2021-11-03</td>\n",
              "      <td>7.1</td>\n",
              "      <td>622</td>\n",
              "    </tr>\n",
              "    <tr>\n",
              "      <th>2</th>\n",
              "      <td>Dune</td>\n",
              "      <td>2911.423</td>\n",
              "      <td>2021-09-15</td>\n",
              "      <td>8.0</td>\n",
              "      <td>3632</td>\n",
              "    </tr>\n",
              "    <tr>\n",
              "      <th>3</th>\n",
              "      <td>Army of Thieves</td>\n",
              "      <td>2552.437</td>\n",
              "      <td>2021-10-27</td>\n",
              "      <td>6.9</td>\n",
              "      <td>555</td>\n",
              "    </tr>\n",
              "    <tr>\n",
              "      <th>4</th>\n",
              "      <td>Free Guy</td>\n",
              "      <td>1850.470</td>\n",
              "      <td>2021-08-11</td>\n",
              "      <td>7.8</td>\n",
              "      <td>3493</td>\n",
              "    </tr>\n",
              "    <tr>\n",
              "      <th>...</th>\n",
              "      <td>...</td>\n",
              "      <td>...</td>\n",
              "      <td>...</td>\n",
              "      <td>...</td>\n",
              "      <td>...</td>\n",
              "    </tr>\n",
              "    <tr>\n",
              "      <th>9995</th>\n",
              "      <td>A Grand Day Out</td>\n",
              "      <td>9.266</td>\n",
              "      <td>1990-05-18</td>\n",
              "      <td>7.5</td>\n",
              "      <td>594</td>\n",
              "    </tr>\n",
              "    <tr>\n",
              "      <th>9996</th>\n",
              "      <td>El cantante</td>\n",
              "      <td>10.417</td>\n",
              "      <td>2006-09-12</td>\n",
              "      <td>7.0</td>\n",
              "      <td>80</td>\n",
              "    </tr>\n",
              "    <tr>\n",
              "      <th>9997</th>\n",
              "      <td>How I Live Now</td>\n",
              "      <td>9.520</td>\n",
              "      <td>2013-09-10</td>\n",
              "      <td>6.6</td>\n",
              "      <td>705</td>\n",
              "    </tr>\n",
              "    <tr>\n",
              "      <th>9998</th>\n",
              "      <td>Once</td>\n",
              "      <td>9.267</td>\n",
              "      <td>2007-03-23</td>\n",
              "      <td>7.4</td>\n",
              "      <td>990</td>\n",
              "    </tr>\n",
              "    <tr>\n",
              "      <th>9999</th>\n",
              "      <td>Manhattan Night</td>\n",
              "      <td>9.273</td>\n",
              "      <td>2016-05-20</td>\n",
              "      <td>6.0</td>\n",
              "      <td>304</td>\n",
              "    </tr>\n",
              "  </tbody>\n",
              "</table>\n",
              "<p>10000 rows × 5 columns</p>\n",
              "</div>\n",
              "    <div class=\"colab-df-buttons\">\n",
              "\n",
              "  <div class=\"colab-df-container\">\n",
              "    <button class=\"colab-df-convert\" onclick=\"convertToInteractive('df-73965c1f-3289-42af-8dec-1a9eebc80f1c')\"\n",
              "            title=\"Convert this dataframe to an interactive table.\"\n",
              "            style=\"display:none;\">\n",
              "\n",
              "  <svg xmlns=\"http://www.w3.org/2000/svg\" height=\"24px\" viewBox=\"0 -960 960 960\">\n",
              "    <path d=\"M120-120v-720h720v720H120Zm60-500h600v-160H180v160Zm220 220h160v-160H400v160Zm0 220h160v-160H400v160ZM180-400h160v-160H180v160Zm440 0h160v-160H620v160ZM180-180h160v-160H180v160Zm440 0h160v-160H620v160Z\"/>\n",
              "  </svg>\n",
              "    </button>\n",
              "\n",
              "  <style>\n",
              "    .colab-df-container {\n",
              "      display:flex;\n",
              "      gap: 12px;\n",
              "    }\n",
              "\n",
              "    .colab-df-convert {\n",
              "      background-color: #E8F0FE;\n",
              "      border: none;\n",
              "      border-radius: 50%;\n",
              "      cursor: pointer;\n",
              "      display: none;\n",
              "      fill: #1967D2;\n",
              "      height: 32px;\n",
              "      padding: 0 0 0 0;\n",
              "      width: 32px;\n",
              "    }\n",
              "\n",
              "    .colab-df-convert:hover {\n",
              "      background-color: #E2EBFA;\n",
              "      box-shadow: 0px 1px 2px rgba(60, 64, 67, 0.3), 0px 1px 3px 1px rgba(60, 64, 67, 0.15);\n",
              "      fill: #174EA6;\n",
              "    }\n",
              "\n",
              "    .colab-df-buttons div {\n",
              "      margin-bottom: 4px;\n",
              "    }\n",
              "\n",
              "    [theme=dark] .colab-df-convert {\n",
              "      background-color: #3B4455;\n",
              "      fill: #D2E3FC;\n",
              "    }\n",
              "\n",
              "    [theme=dark] .colab-df-convert:hover {\n",
              "      background-color: #434B5C;\n",
              "      box-shadow: 0px 1px 3px 1px rgba(0, 0, 0, 0.15);\n",
              "      filter: drop-shadow(0px 1px 2px rgba(0, 0, 0, 0.3));\n",
              "      fill: #FFFFFF;\n",
              "    }\n",
              "  </style>\n",
              "\n",
              "    <script>\n",
              "      const buttonEl =\n",
              "        document.querySelector('#df-73965c1f-3289-42af-8dec-1a9eebc80f1c button.colab-df-convert');\n",
              "      buttonEl.style.display =\n",
              "        google.colab.kernel.accessAllowed ? 'block' : 'none';\n",
              "\n",
              "      async function convertToInteractive(key) {\n",
              "        const element = document.querySelector('#df-73965c1f-3289-42af-8dec-1a9eebc80f1c');\n",
              "        const dataTable =\n",
              "          await google.colab.kernel.invokeFunction('convertToInteractive',\n",
              "                                                    [key], {});\n",
              "        if (!dataTable) return;\n",
              "\n",
              "        const docLinkHtml = 'Like what you see? Visit the ' +\n",
              "          '<a target=\"_blank\" href=https://colab.research.google.com/notebooks/data_table.ipynb>data table notebook</a>'\n",
              "          + ' to learn more about interactive tables.';\n",
              "        element.innerHTML = '';\n",
              "        dataTable['output_type'] = 'display_data';\n",
              "        await google.colab.output.renderOutput(dataTable, element);\n",
              "        const docLink = document.createElement('div');\n",
              "        docLink.innerHTML = docLinkHtml;\n",
              "        element.appendChild(docLink);\n",
              "      }\n",
              "    </script>\n",
              "  </div>\n",
              "\n",
              "\n",
              "<div id=\"df-f47fe361-8159-4390-8bb9-c6c0d9e63c3c\">\n",
              "  <button class=\"colab-df-quickchart\" onclick=\"quickchart('df-f47fe361-8159-4390-8bb9-c6c0d9e63c3c')\"\n",
              "            title=\"Suggest charts.\"\n",
              "            style=\"display:none;\">\n",
              "\n",
              "<svg xmlns=\"http://www.w3.org/2000/svg\" height=\"24px\"viewBox=\"0 0 24 24\"\n",
              "     width=\"24px\">\n",
              "    <g>\n",
              "        <path d=\"M19 3H5c-1.1 0-2 .9-2 2v14c0 1.1.9 2 2 2h14c1.1 0 2-.9 2-2V5c0-1.1-.9-2-2-2zM9 17H7v-7h2v7zm4 0h-2V7h2v10zm4 0h-2v-4h2v4z\"/>\n",
              "    </g>\n",
              "</svg>\n",
              "  </button>\n",
              "\n",
              "<style>\n",
              "  .colab-df-quickchart {\n",
              "    background-color: #E8F0FE;\n",
              "    border: none;\n",
              "    border-radius: 50%;\n",
              "    cursor: pointer;\n",
              "    display: none;\n",
              "    fill: #1967D2;\n",
              "    height: 32px;\n",
              "    padding: 0 0 0 0;\n",
              "    width: 32px;\n",
              "  }\n",
              "\n",
              "  .colab-df-quickchart:hover {\n",
              "    background-color: #E2EBFA;\n",
              "    box-shadow: 0px 1px 2px rgba(60, 64, 67, 0.3), 0px 1px 3px 1px rgba(60, 64, 67, 0.15);\n",
              "    fill: #174EA6;\n",
              "  }\n",
              "\n",
              "  [theme=dark] .colab-df-quickchart {\n",
              "    background-color: #3B4455;\n",
              "    fill: #D2E3FC;\n",
              "  }\n",
              "\n",
              "  [theme=dark] .colab-df-quickchart:hover {\n",
              "    background-color: #434B5C;\n",
              "    box-shadow: 0px 1px 3px 1px rgba(0, 0, 0, 0.15);\n",
              "    filter: drop-shadow(0px 1px 2px rgba(0, 0, 0, 0.3));\n",
              "    fill: #FFFFFF;\n",
              "  }\n",
              "</style>\n",
              "\n",
              "  <script>\n",
              "    async function quickchart(key) {\n",
              "      const charts = await google.colab.kernel.invokeFunction(\n",
              "          'suggestCharts', [key], {});\n",
              "    }\n",
              "    (() => {\n",
              "      let quickchartButtonEl =\n",
              "        document.querySelector('#df-f47fe361-8159-4390-8bb9-c6c0d9e63c3c button');\n",
              "      quickchartButtonEl.style.display =\n",
              "        google.colab.kernel.accessAllowed ? 'block' : 'none';\n",
              "    })();\n",
              "  </script>\n",
              "</div>\n",
              "    </div>\n",
              "  </div>\n"
            ]
          },
          "metadata": {},
          "execution_count": 22
        }
      ]
    },
    {
      "cell_type": "code",
      "source": [
        "x = df_features['original_title'].astype(str) + ' ' + df_features['popularity'].astype(str) + ' ' + df_features['release_date'].astype(str) + ' ' + df_features['vote_average'].astype(str) + ' ' + df_features['vote_count'].astype(str)"
      ],
      "metadata": {
        "id": "mKV5kYKMfAI8"
      },
      "execution_count": 51,
      "outputs": []
    },
    {
      "cell_type": "code",
      "source": [
        "x"
      ],
      "metadata": {
        "colab": {
          "base_uri": "https://localhost:8080/"
        },
        "id": "fss7LFBUgxUx",
        "outputId": "97186f3f-aad9-43c1-b428-45f268b8e2f7"
      },
      "execution_count": null,
      "outputs": [
        {
          "output_type": "execute_result",
          "data": {
            "text/plain": [
              "0       Venom: Let There Be Carnage 5401.308 2021-09-3...\n",
              "1                    Eternals 3365.535 2021-11-03 7.1 622\n",
              "2                       Dune 2911.423 2021-09-15 8.0 3632\n",
              "3             Army of Thieves 2552.437 2021-10-27 6.9 555\n",
              "4                    Free Guy 1850.47 2021-08-11 7.8 3493\n",
              "                              ...                        \n",
              "9995             A Grand Day Out 9.266 1990-05-18 7.5 594\n",
              "9996                 El cantante 10.417 2006-09-12 7.0 80\n",
              "9997               How I Live Now 9.52 2013-09-10 6.6 705\n",
              "9998                        Once 9.267 2007-03-23 7.4 990\n",
              "9999             Manhattan Night 9.273 2016-05-20 6.0 304\n",
              "Length: 10000, dtype: object"
            ]
          },
          "metadata": {},
          "execution_count": 30
        }
      ]
    },
    {
      "cell_type": "code",
      "source": [
        "x.shape"
      ],
      "metadata": {
        "colab": {
          "base_uri": "https://localhost:8080/"
        },
        "id": "B6Qr8JojhAbW",
        "outputId": "dc07c6ae-f85e-40cc-8ac7-cee5c71dd25b"
      },
      "execution_count": null,
      "outputs": [
        {
          "output_type": "execute_result",
          "data": {
            "text/plain": [
              "(10000,)"
            ]
          },
          "metadata": {},
          "execution_count": 32
        }
      ]
    },
    {
      "cell_type": "markdown",
      "source": [
        "**GET FEATURE TEXT CONVERSION TO TOKENS**"
      ],
      "metadata": {
        "id": "LABC19nNhJfp"
      }
    },
    {
      "cell_type": "code",
      "source": [
        "from sklearn.feature_extraction.text import TfidfVectorizer"
      ],
      "metadata": {
        "id": "SRICV-h9hT6z"
      },
      "execution_count": 52,
      "outputs": []
    },
    {
      "cell_type": "code",
      "source": [
        "tfidf = TfidfVectorizer()"
      ],
      "metadata": {
        "id": "CQ2aKKYkhepw"
      },
      "execution_count": 53,
      "outputs": []
    },
    {
      "cell_type": "code",
      "source": [
        "x = tfidf.fit_transform(x)"
      ],
      "metadata": {
        "id": "7j_ckEtChm-Z"
      },
      "execution_count": 54,
      "outputs": []
    },
    {
      "cell_type": "code",
      "source": [
        "x.shape"
      ],
      "metadata": {
        "colab": {
          "base_uri": "https://localhost:8080/"
        },
        "id": "JK-E_Z-Yhttl",
        "outputId": "ad3eae6b-15fa-478f-930d-85eddbd1392d"
      },
      "execution_count": null,
      "outputs": [
        {
          "output_type": "execute_result",
          "data": {
            "text/plain": [
              "(10000, 12617)"
            ]
          },
          "metadata": {},
          "execution_count": 37
        }
      ]
    },
    {
      "cell_type": "code",
      "source": [
        "print(x)"
      ],
      "metadata": {
        "colab": {
          "base_uri": "https://localhost:8080/"
        },
        "id": "51DL3A9shxIe",
        "outputId": "e55ed8c5-b1ed-4e4b-f818-b51900a9fcc7"
      },
      "execution_count": null,
      "outputs": [
        {
          "output_type": "stream",
          "name": "stdout",
          "text": [
            "  (0, 921)\t0.3937438563524359\n",
            "  (0, 1758)\t0.17282303888879205\n",
            "  (0, 91)\t0.12443607089052096\n",
            "  (0, 1196)\t0.14302107214551013\n",
            "  (0, 1797)\t0.3132388061037037\n",
            "  (0, 2571)\t0.3937438563524359\n",
            "  (0, 4540)\t0.36506737885534507\n",
            "  (0, 4007)\t0.2876282800458216\n",
            "  (0, 10322)\t0.3315180508782006\n",
            "  (0, 7330)\t0.31630475754291243\n",
            "  (0, 10773)\t0.31630475754291243\n",
            "  (1, 2775)\t0.4490473332219666\n",
            "  (1, 31)\t0.18285804780544523\n",
            "  (1, 239)\t0.15199898157579186\n",
            "  (1, 2558)\t0.40968699060355435\n",
            "  (1, 1923)\t0.5174148941247425\n",
            "  (1, 5717)\t0.5174148941247425\n",
            "  (1, 1196)\t0.19630578413513364\n",
            "  (2, 2027)\t0.5029345734092411\n",
            "  (2, 702)\t0.19544511576649742\n",
            "  (2, 2228)\t0.4010527061050116\n",
            "  (2, 1709)\t0.5253145414492625\n",
            "  (2, 5490)\t0.4561672963818289\n",
            "  (2, 91)\t0.16601675547438044\n",
            "  (2, 1196)\t0.19081199038303606\n",
            "  :\t:\n",
            "  (9996, 5580)\t0.34698098822556095\n",
            "  (9996, 373)\t0.16410039156442607\n",
            "  (9996, 101)\t0.15559316604456505\n",
            "  (9996, 91)\t0.18057269242973017\n",
            "  (9997, 7390)\t0.42991297412617124\n",
            "  (9997, 8216)\t0.46697565653542095\n",
            "  (9997, 2515)\t0.3594088377608134\n",
            "  (9997, 2941)\t0.42991297412617124\n",
            "  (9997, 6725)\t0.4098171578255219\n",
            "  (9997, 1186)\t0.24824264481359357\n",
            "  (9997, 101)\t0.1510329812486024\n",
            "  (9997, 91)\t0.1752803979960001\n",
            "  (9998, 3419)\t0.5697566597978201\n",
            "  (9998, 8302)\t0.493653370785612\n",
            "  (9998, 1589)\t0.48024653109369453\n",
            "  (9998, 1179)\t0.3043261286000117\n",
            "  (9998, 1379)\t0.25534608660582336\n",
            "  (9998, 31)\t0.20792054012753902\n",
            "  (9999, 7595)\t0.5240001283019425\n",
            "  (9999, 1780)\t0.4505695789425224\n",
            "  (9999, 1189)\t0.25339150512427405\n",
            "  (9999, 1621)\t0.4505695789425224\n",
            "  (9999, 1169)\t0.24533251127771386\n",
            "  (9999, 8139)\t0.38608411474185267\n",
            "  (9999, 51)\t0.21434023184574846\n"
          ]
        }
      ]
    },
    {
      "cell_type": "markdown",
      "source": [
        "**GET SIMILARITY SCORE USING COSINE SIMILARITY**"
      ],
      "metadata": {
        "id": "ZlKE90Veh469"
      }
    },
    {
      "cell_type": "code",
      "source": [
        "from sklearn.metrics.pairwise import cosine_similarity"
      ],
      "metadata": {
        "id": "hL_O6sg6iAwB"
      },
      "execution_count": 55,
      "outputs": []
    },
    {
      "cell_type": "code",
      "source": [
        "Similarity_Score = cosine_similarity(x)"
      ],
      "metadata": {
        "id": "PlA6R7-fiMHQ"
      },
      "execution_count": 56,
      "outputs": []
    },
    {
      "cell_type": "code",
      "source": [
        "Similarity_Score"
      ],
      "metadata": {
        "colab": {
          "base_uri": "https://localhost:8080/"
        },
        "id": "pyWnVE3UiUe1",
        "outputId": "a2f01c12-4d3a-45cc-abb3-032dc3c5adfc"
      },
      "execution_count": 57,
      "outputs": [
        {
          "output_type": "execute_result",
          "data": {
            "text/plain": [
              "array([[1.        , 0.02807586, 0.04794861, ..., 0.0218112 , 0.        ,\n",
              "        0.        ],\n",
              "       [0.02807586, 1.        , 0.0374575 , ..., 0.        , 0.03801994,\n",
              "        0.        ],\n",
              "       [0.04794861, 0.0374575 , 1.        , ..., 0.02909948, 0.        ,\n",
              "        0.        ],\n",
              "       ...,\n",
              "       [0.0218112 , 0.        , 0.02909948, ..., 1.        , 0.        ,\n",
              "        0.        ],\n",
              "       [0.        , 0.03801994, 0.        , ..., 0.        , 1.        ,\n",
              "        0.        ],\n",
              "       [0.        , 0.        , 0.        , ..., 0.        , 0.        ,\n",
              "        1.        ]])"
            ]
          },
          "metadata": {},
          "execution_count": 57
        }
      ]
    },
    {
      "cell_type": "code",
      "source": [
        "Similarity_Score.shape"
      ],
      "metadata": {
        "colab": {
          "base_uri": "https://localhost:8080/"
        },
        "id": "6qtK7KQFiWmu",
        "outputId": "c6c6f7dd-6f0c-43fe-8617-1ee934d3b7a8"
      },
      "execution_count": 293,
      "outputs": [
        {
          "output_type": "execute_result",
          "data": {
            "text/plain": [
              "(10000, 10000)"
            ]
          },
          "metadata": {},
          "execution_count": 293
        }
      ]
    },
    {
      "cell_type": "markdown",
      "source": [
        "**GET MOVIE NAME AS INPUT FROM USER AND VALIDATE FOR CLOSEST SPELLING**"
      ],
      "metadata": {
        "id": "dQOUEx9Sib0g"
      }
    },
    {
      "cell_type": "code",
      "source": [
        "Favourite_Movie_Name = input('Enter your favourite movie name : ')"
      ],
      "metadata": {
        "colab": {
          "base_uri": "https://localhost:8080/"
        },
        "id": "shryrvvOii8Y",
        "outputId": "4c64d436-d596-4c1d-a2ae-9883b5e5ee3f"
      },
      "execution_count": 98,
      "outputs": [
        {
          "name": "stdout",
          "output_type": "stream",
          "text": [
            "Enter your favourite movie name : Venom\n"
          ]
        }
      ]
    },
    {
      "cell_type": "code",
      "source": [
        "All_Movies_Title_List = df['original_title'].tolist()"
      ],
      "metadata": {
        "id": "Pj33tqp3i2cY"
      },
      "execution_count": 99,
      "outputs": []
    },
    {
      "cell_type": "code",
      "source": [
        "import difflib"
      ],
      "metadata": {
        "id": "uMKpU3KRjKn2"
      },
      "execution_count": 100,
      "outputs": []
    },
    {
      "cell_type": "code",
      "source": [
        "Movie_Recommenadation = difflib.get_close_matches(Favourite_Movie_Name,All_Movies_Title_List)\n",
        "print(Movie_Recommenadation)"
      ],
      "metadata": {
        "colab": {
          "base_uri": "https://localhost:8080/"
        },
        "id": "5va-QmcQjPZE",
        "outputId": "54dadb01-b58c-4732-cf57-b27cde3ab3e6"
      },
      "execution_count": 101,
      "outputs": [
        {
          "output_type": "stream",
          "name": "stdout",
          "text": [
            "['Venom', 'Venom', 'Venom']\n"
          ]
        }
      ]
    },
    {
      "cell_type": "code",
      "source": [
        "Close_Match = Movie_Recommenadation[0]\n",
        "print(Close_Match)"
      ],
      "metadata": {
        "colab": {
          "base_uri": "https://localhost:8080/"
        },
        "id": "akjKKSH4jyUB",
        "outputId": "078bcdd7-40e3-4799-e4b1-b76e67126aa6"
      },
      "execution_count": 102,
      "outputs": [
        {
          "output_type": "stream",
          "name": "stdout",
          "text": [
            "Venom\n"
          ]
        }
      ]
    },
    {
      "cell_type": "code",
      "source": [
        "Index_of_Close_Match_Movie = df[df.original_title==Close_Match]['popularity'].values[0]\n",
        "print(Index_of_Close_Match_Movie)"
      ],
      "metadata": {
        "colab": {
          "base_uri": "https://localhost:8080/"
        },
        "id": "3AWh0in8kF1f",
        "outputId": "881d4946-3af7-4572-a321-2499ca68718d"
      },
      "execution_count": 103,
      "outputs": [
        {
          "output_type": "stream",
          "name": "stdout",
          "text": [
            "1212.352\n"
          ]
        }
      ]
    },
    {
      "cell_type": "code",
      "source": [
        "if isinstance(Index_of_Close_Match_Movie, int) and 0 <= Index_of_Close_Match_Movie < len(Similarity_Scores):\n",
        "    Recommendation_Score = list(enumerate([Similarity_Scores[Index_of_Close_Match_Movie]]))\n",
        "    print(Recommendation_Score)\n",
        "else:\n",
        "    print(\"Invalid index\")\n"
      ],
      "metadata": {
        "colab": {
          "base_uri": "https://localhost:8080/"
        },
        "id": "VOM_RxHalig4",
        "outputId": "9ec738eb-052f-4769-ef20-2e22f58c6cfa"
      },
      "execution_count": 106,
      "outputs": [
        {
          "output_type": "stream",
          "name": "stdout",
          "text": [
            "[(0, [1.0, 0.02807586, 0.04794861, Ellipsis, 0.0218112, 0.0, 0.0])]\n"
          ]
        }
      ]
    },
    {
      "cell_type": "code",
      "source": [
        "len(Recommendation_Score)"
      ],
      "metadata": {
        "colab": {
          "base_uri": "https://localhost:8080/"
        },
        "id": "uA_jbLkEVcn1",
        "outputId": "10465c3c-fe03-4216-842d-ab3d2d7ade78"
      },
      "execution_count": 105,
      "outputs": [
        {
          "output_type": "execute_result",
          "data": {
            "text/plain": [
              "1"
            ]
          },
          "metadata": {},
          "execution_count": 105
        }
      ]
    },
    {
      "cell_type": "markdown",
      "source": [
        "**GET ALL MOVIES SORT BASED ON RECOMMENDATION SCORE WRT FAVOURITE MOVIE**"
      ],
      "metadata": {
        "id": "saSNdYGWmQ6Q"
      }
    },
    {
      "cell_type": "code",
      "source": [
        "Sorted_Similar_Movies= sorted(Recommendation_Score, key = lambda x:x[1], reverse= True)\n",
        "print(Sorted_Similar_Movies)"
      ],
      "metadata": {
        "colab": {
          "base_uri": "https://localhost:8080/"
        },
        "id": "MNlIB2WpVo5U",
        "outputId": "99ffe48b-c1ef-4e44-9dd2-8ee0338056ab"
      },
      "execution_count": 96,
      "outputs": [
        {
          "output_type": "stream",
          "name": "stdout",
          "text": [
            "[(0, [1.0, 0.02807586, 0.04794861, Ellipsis, 0.0218112, 0.0, 0.0])]\n"
          ]
        }
      ]
    },
    {
      "cell_type": "code",
      "source": [
        "print('Movies Suggested for You: \\n')\n",
        "i=1\n",
        "for movie in Sorted_Similar_Movies:\n",
        "  index = movie[0]\n",
        "  title_from_index=df[df.index==index]['original_title'].values[0]\n",
        "  if (i<30):\n",
        "   print(i,'.',title_from_index)\n",
        "   i+=1"
      ],
      "metadata": {
        "colab": {
          "base_uri": "https://localhost:8080/"
        },
        "id": "JvY0GFTxmiO8",
        "outputId": "739d12cd-90b0-4e37-e587-573b025f4020"
      },
      "execution_count": 97,
      "outputs": [
        {
          "output_type": "stream",
          "name": "stdout",
          "text": [
            "Movies Suggested for You: \n",
            "\n",
            "1 . Venom: Let There Be Carnage\n"
          ]
        }
      ]
    }
  ]
}